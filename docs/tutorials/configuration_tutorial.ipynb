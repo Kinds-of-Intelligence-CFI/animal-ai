{
 "cells": [
  {
   "cell_type": "markdown",
   "metadata": {},
   "source": [
    "# Animal-AI Configuration tutorial\n",
    "\n",
    "This tutorial is an introduction of configurating arenas in the Animal-AI environment. \n",
    "\n",
    "**We present the format and content of configuration files and show an example of how to generate your own arenas by provided scripts.**"
   ]
  },
  {
   "cell_type": "markdown",
   "metadata": {},
   "source": [
    "## Introduction of arena configurations\n",
    "\n",
    "The Animal-AI environment provides a 3d physical arena with an agent that can move and a number of types of objects. The initial status of arenas is configured by `yaml` configuration files. Such files contain:\n",
    "\n",
    "- experiment parameters (pass mark, maximum steps, steps at which the light is turned on/off)\n",
    "- a list of arenas\n",
    "    - a number of object types\n",
    "        - a list of objects\n",
    "        - object specifications (positions, rotations, sizes, colors) which are randomized if not provided\n",
    "\n",
    "Below is an example configuration file:"
   ]
  },
  {
   "cell_type": "code",
   "execution_count": 3,
   "metadata": {
    "scrolled": true
   },
   "outputs": [
    {
     "name": "stdout",
     "output_type": "stream",
     "text": [
      "#Example 1 showing basic usage.\n",
      "!ArenaConfig\n",
      "arenas:\n",
      "  0: !Arena\n",
      "    t: 250\n",
      "    items:\n",
      "    - !Item\n",
      "      name: Wall\n",
      "      positions: \n",
      "      - !Vector3 {x: 21, y: 0, z: 10}\n",
      "      rotations: [0]\n",
      "      sizes: \n",
      "      - !Vector3 {x: 5, y: 3, z: 1}\n",
      "      colors: \n",
      "      - !RGB {r: 255, g: 0, b: 255}\n",
      "    - !Item\n",
      "      name: GoodGoalBounce\n",
      "      positions: \n",
      "      - !Vector3 {x: 18, y: 0, z: 22}\n",
      "      - !Vector3 {x: 26, y: 0, z: 15}\n",
      "      rotations: [90, 60]\n",
      "      sizes: \n",
      "      - !Vector3 {x: 1, y: 1, z: 1}\n",
      "      - !Vector3 {x: 3, y: 3, z: 3}\n",
      "    - !Item\n",
      "      name: Agent\n",
      "      positions: \n",
      "      - !Vector3 {x: 20, y: 0, z: 15}\n",
      "      rotations: [0]\n",
      "\n"
     ]
    }
   ],
   "source": [
    "with open('example1.yaml') as f:\n",
    "    print(f.read())"
   ]
  },
  {
   "cell_type": "markdown",
   "metadata": {},
   "source": [
    "This file contains the configuration of one arena (`!Arena`), with an agent `Agent`, two green moving spheres `GoodGoalBounce` and a wall `Wall`. Note that two spheres are declared at once.\n",
    "\n",
    "\n",
    "You can now use this to load an environment and play yourself (`load_config_and_play.py` does that for you). Make sure you have followed the [installation guide](https://github.com/beyretb/AnimalAI-Olympics#requirements) and then create an `AnimalAIEnvironment` in play mode:"
   ]
  },
  {
   "cell_type": "code",
   "execution_count": null,
   "metadata": {},
   "outputs": [],
   "source": [
    "from animalai.envs.arena_config import ArenaConfig\n",
    "from animalai.envs.environment import AnimalAIEnvironment\n",
    "from mlagents_envs.exception import UnityCommunicationException\n",
    "\n",
    "try:\n",
    "    environment = AnimalAIEnvironment(\n",
    "            file_name='env/AnimalAI',\n",
    "            base_port=5005,\n",
    "            arenas_configurations=ArenaConfig('example1.yaml'),\n",
    "            play=True,\n",
    "        )\n",
    "except UnityCommunicationException:\n",
    "    # you'll end up here if you close the environment window directly\n",
    "    # always try to close it from script\n",
    "    environment.close()"
   ]
  },
  {
   "cell_type": "markdown",
   "metadata": {},
   "source": [
    "Press **C** to change the viewpoint (bird's eye, first person, third person), and move with **W,A,S,D** or the **arrows** on your keyboard. \n",
    "\n",
    "Press **R** to reset the arena. Note that every time this arena reset, it has **same setup** (rotations, colors, positions, sizes). It is for reason that we explicitly set all configurable attributes of each object in this arena.\n",
    "\n",
    "Once you're done, let's close this environment:"
   ]
  },
  {
   "cell_type": "code",
   "execution_count": null,
   "metadata": {},
   "outputs": [],
   "source": [
    "if environment:\n",
    "    environment.close() # takes a few seconds"
   ]
  },
  {
   "cell_type": "markdown",
   "metadata": {},
   "source": [
    "## Write arena configurations \n",
    "\n",
    "This section presents how to use provided scripts to design arenas.\n",
    "\n",
    "We use functions in `generate_configs.py` to write new configuration files.\n",
    "First we need to instantiate an `AAIObj`, which holds attributes of target objects as below."
   ]
  },
  {
   "cell_type": "code",
   "execution_count": 5,
   "metadata": {},
   "outputs": [],
   "source": [
    "from generate_configs import AAIObj\n",
    "\n",
    "# Create a purple wall\n",
    "wall = AAIObj(\"Wall\", positions=[(21,0,10)],rotations=[0],sizes=[(5,3,1)],colors=[(255,0,255)])"
   ]
  },
  {
   "cell_type": "markdown",
   "metadata": {},
   "source": [
    "We may configure **position**, **rotation**, **size** and **color** of an object. For those attributes not explicitly set, they will be randomized each time arena resets (by pressing **R** in play mode).\n",
    "\n",
    "The position is (x, y, z) float values, where y is the altitude. The middle of arena is (20, 0, 20).\n",
    "\n",
    "The rotation is in 0 ~ 360 float values. It is possible to set to 720 or -720, but it might not function properly. It decides the direction object is facing initially.\n",
    "\n",
    "The size is a float value. \n",
    "\n",
    "The color is (R, G, B) float values in 0~255.\n",
    "\n",
    "Several different objects of same type can be configured at once as below."
   ]
  },
  {
   "cell_type": "code",
   "execution_count": 6,
   "metadata": {},
   "outputs": [],
   "source": [
    "# Create two green moving spheres at once\n",
    "spheres = AAIObj(\"GoodGoalBounce\", positions=[(18,0,22),(26,0,15)],rotations=[90, 60],sizes=[(1,1,1), (3,3,3)])"
   ]
  },
  {
   "cell_type": "markdown",
   "metadata": {},
   "source": [
    "Note that we do not need to configure color for `spheres` since \"GoodGoalBounce\" is always green regardless of `colors` values.\n",
    "\n",
    "Then we need an agent."
   ]
  },
  {
   "cell_type": "code",
   "execution_count": 7,
   "metadata": {},
   "outputs": [],
   "source": [
    "# Create an agent\n",
    "agent = AAIObj(\"Agent\",positions=[(20,0,15)],rotations=[0])"
   ]
  },
  {
   "cell_type": "markdown",
   "metadata": {},
   "source": [
    "Again, we cannot change the size and color of an agent. It is always (1,1,1) large and in cyan.\n",
    "\n",
    "Now we have a purple warll, two moving green spheres and an agent. We are ready to write the objects into a `yaml` file.\n",
    "\n",
    "We may use `ConfigWriter` class in `generate_configs.py`. It provides some functions to format object attributes."
   ]
  },
  {
   "cell_type": "code",
   "execution_count": 8,
   "metadata": {},
   "outputs": [
    {
     "name": "stdout",
     "output_type": "stream",
     "text": [
      "#An example configure file\n",
      "!ArenaConfig\n",
      "arenas:\n",
      "  0: !Arena\n",
      "    pass_mark: 2.0\n",
      "    t: 250\n",
      "    items:\n",
      "\n"
     ]
    }
   ],
   "source": [
    "from generate_configs import ConfigWriter\n",
    "# Instantiate \n",
    "cw = ConfigWriter()\n",
    "file1 = \"config_first.yaml\"\n",
    "\n",
    "# Write file and arena header\n",
    "cw.writeHeader(file=file1, passMark=2.0, time=250, notes=\"An example configure file\")\n",
    "\n",
    "with open(file1) as f:\n",
    "    print(f.read())"
   ]
  },
  {
   "cell_type": "markdown",
   "metadata": {},
   "source": [
    "`writeHeader` is useful when we have only one arena in configuration file. It writes the file header and first arena header.\n",
    "\n",
    "`passMark` is a float value. Agent need to reach that score by collecting goal balls to show it has ideal performance in this arena. \n",
    "\n",
    "`time` is an integer value representing time steps limit of this arena. The arena is terminated when reaching time limit. By setting time to 0 to make the arena permanent.\n",
    "\n",
    "Different arena in one configuration file may have _different_ pass mark and time limit.\n",
    "\n",
    "`notes` is an optional message at the top of the configuration file.\n",
    "\n",
    "Then we need to write the objects defined above into configuration file."
   ]
  },
  {
   "cell_type": "code",
   "execution_count": 9,
   "metadata": {},
   "outputs": [
    {
     "name": "stdout",
     "output_type": "stream",
     "text": [
      "#An example configure file\n",
      "!ArenaConfig\n",
      "arenas:\n",
      "  0: !Arena\n",
      "    pass_mark: 2.0\n",
      "    t: 250\n",
      "    items:\n",
      "    - !Item\n",
      "      name: Wall\n",
      "      positions: \n",
      "      - !Vector3 {x: 21, y: 0, z: 10}\n",
      "      rotations: [0]\n",
      "      sizes: \n",
      "      - !Vector3 {x: 5, y: 3, z: 1}\n",
      "      colors: \n",
      "      - !RGB {r: 255, g: 0, b: 255}\n",
      "    - !Item\n",
      "      name: GoodGoalBounce\n",
      "      positions: \n",
      "      - !Vector3 {x: 18, y: 0, z: 22}\n",
      "      - !Vector3 {x: 26, y: 0, z: 15}\n",
      "      rotations: [90, 60]\n",
      "      sizes: \n",
      "      - !Vector3 {x: 1, y: 1, z: 1}\n",
      "      - !Vector3 {x: 3, y: 3, z: 3}\n",
      "    - !Item\n",
      "      name: Agent\n",
      "      positions: \n",
      "      - !Vector3 {x: 20, y: 0, z: 15}\n",
      "      rotations: [0]\n",
      "\n"
     ]
    }
   ],
   "source": [
    "# Write objects\n",
    "objs = [wall, spheres, agent] # put all objects in a list\n",
    "cw.writeItems(file1, objs) # append objects to the file\n",
    "\n",
    "with open(file1) as f:\n",
    "    print(f.read())"
   ]
  },
  {
   "cell_type": "markdown",
   "metadata": {},
   "source": [
    "An arena which has same configuration as the one we see in previous section is configured now.\n",
    "\n",
    "You may load and play it as before."
   ]
  },
  {
   "cell_type": "code",
   "execution_count": null,
   "metadata": {},
   "outputs": [],
   "source": [
    "from animalai.envs.arena_config import ArenaConfig\n",
    "from animalai.envs.environment import AnimalAIEnvironment\n",
    "from mlagents_envs.exception import UnityCommunicationException\n",
    "import random\n",
    "\n",
    "try:\n",
    "    environment = AnimalAIEnvironment(\n",
    "            file_name='env/AnimalAI',\n",
    "            base_port=5005 + \n",
    "                random.randint(0, 100), # use a random port so (probably) do not need to wait for previous to close if need to relaunch\n",
    "            arenas_configurations=ArenaConfig(file1),\n",
    "            play=True,\n",
    "        )\n",
    "except UnityCommunicationException:\n",
    "    # you'll end up here if you close the environment window directly\n",
    "    # always try to close it from script\n",
    "    environment.close()"
   ]
  },
  {
   "cell_type": "code",
   "execution_count": null,
   "metadata": {},
   "outputs": [],
   "source": [
    "if environment:\n",
    "    environment.close() # takes a few seconds"
   ]
  },
  {
   "cell_type": "markdown",
   "metadata": {},
   "source": [
    "## Generate your own arenas\n",
    "\n",
    "In last section, we have seen 4 attributes of objects (positions, rotations, sizes, colors) and two attributes of arenas (pass mark, time). We also present how to write a configuration file with one arena.\n",
    "\n",
    "In this section, we will have a look at some advanced features which might be helpful when configuring your experiments.\n",
    "\n",
    "First of all, let's see how arenas randomize unspecified attributes."
   ]
  },
  {
   "cell_type": "code",
   "execution_count": 11,
   "metadata": {},
   "outputs": [
    {
     "name": "stdout",
     "output_type": "stream",
     "text": [
      "#Example showing how arena randomize attributes.\n",
      "!ArenaConfig\n",
      "arenas:\n",
      "  0: !Arena\n",
      "    pass_mark: 1\n",
      "    t: 0\n",
      "    items:\n",
      "    - !Item\n",
      "      name: Agent\n",
      "      positions: \n",
      "      - !Vector3 {x: 20, y: 0, z: 10}\n",
      "      rotations: [0]\n",
      "    - !Item\n",
      "      name: GoodGoal\n",
      "\n"
     ]
    }
   ],
   "source": [
    "from generate_configs import *\n",
    "cw = ConfigWriter()\n",
    "file2 = \"config_random.yaml\"\n",
    "cw.writeHeader(file2, passMark=1, time=0, notes=\"Example showing how arena randomize attributes.\") \n",
    "\n",
    "# Create a fixed agent and a randomized green sphere\n",
    "objs=[AAIObj(\"Agent\", positions=[(20,0,10)], rotations=[0]), AAIObj(\"GoodGoal\", None,None,None)]\n",
    "cw.writeItems(file2, objs)\n",
    "\n",
    "with open(file2) as f:\n",
    "    print(f.read())"
   ]
  },
  {
   "cell_type": "markdown",
   "metadata": {},
   "source": [
    "Load the configuration and play by cell below, press **R** to see the difference.\n",
    "\n",
    "Remember that the color of \"GoodGoal\" is always green."
   ]
  },
  {
   "cell_type": "code",
   "execution_count": null,
   "metadata": {},
   "outputs": [],
   "source": [
    "from animalai.envs.arena_config import ArenaConfig\n",
    "from animalai.envs.environment import AnimalAIEnvironment\n",
    "from mlagents_envs.exception import UnityCommunicationException\n",
    "import random\n",
    "\n",
    "try:\n",
    "    environment = AnimalAIEnvironment(\n",
    "            file_name='env/AnimalAI',\n",
    "            base_port=5005 + \n",
    "                random.randint(0, 100), # use a random port so (probably) do not need to wait for previous to close if need to relaunch\n",
    "            arenas_configurations=ArenaConfig(file2),\n",
    "            play=True,\n",
    "        )\n",
    "except UnityCommunicationException:\n",
    "    # you'll end up here if you close the environment window directly\n",
    "    # always try to close it from script\n",
    "    environment.close()"
   ]
  },
  {
   "cell_type": "code",
   "execution_count": null,
   "metadata": {},
   "outputs": [],
   "source": [
    "if environment:\n",
    "    environment.close() # takes a few seconds"
   ]
  },
  {
   "cell_type": "markdown",
   "metadata": {},
   "source": [
    "As you see, the position, rotation and size of green sphere is randomized each time the area resets.\n",
    "\n",
    "It is also possible to have an object with some attributes fixed and some randomized; or a wall fixed and another wall randomized by adding two `AAIObj`.\n",
    "\n",
    "Next, we are going to see some other configurations for arenas and how to add new attributes not available now."
   ]
  },
  {
   "cell_type": "code",
   "execution_count": 13,
   "metadata": {},
   "outputs": [
    {
     "name": "stdout",
     "output_type": "stream",
     "text": [
      "#Example showing advanced arena configurations.\n",
      "!ArenaConfig\n",
      "arenas:\n",
      "\n"
     ]
    }
   ],
   "source": [
    "from generate_configs import *\n",
    "cw = ConfigWriter()\n",
    "file3 = \"config_blackouts.yaml\"\n",
    "#cw.writeHeader(file3, passMark=1, time=0, notes=\"Example showing advanced arena configurations.\") \n",
    "\n",
    "# separate file header and arena header\n",
    "cw.writeConfigHeader(file3,notes=\"Example showing advanced arena configurations.\")\n",
    "\n",
    "with open(file3) as f:\n",
    "    print(f.read())"
   ]
  },
  {
   "cell_type": "markdown",
   "metadata": {},
   "source": [
    "The helper function `writeHeader` does not support attributes other than pass mark and time. We need to use two functions `writeConfigHeader` and `writeArenaHeader` to declare configration header and arena header separately.\n",
    "\n",
    "As you see, `writeConfigHeader` does not have any parameters related to the arena initialized."
   ]
  },
  {
   "cell_type": "code",
   "execution_count": 14,
   "metadata": {},
   "outputs": [
    {
     "name": "stdout",
     "output_type": "stream",
     "text": [
      "#Example showing advanced arena configurations.\n",
      "!ArenaConfig\n",
      "arenas:\n",
      "  0: !Arena\n",
      "    pass_mark: 1\n",
      "    t: 0\n",
      "    blackouts: [30, 50]\n",
      "    items:\n",
      "\n"
     ]
    }
   ],
   "source": [
    "cw.writeArenaHeader(file3,passMark=1,time=0,blackouts=[30,50],arena=0,additional=None)\n",
    "\n",
    "with open(file3) as f:\n",
    "    print(f.read())"
   ]
  },
  {
   "cell_type": "markdown",
   "metadata": {},
   "source": [
    "`writeArenaHeader` has 4 parameters and accepts additional parameters.\n",
    "\n",
    "As dicussed above, pass mark is the score to complete this arena and time is the time limit. \n",
    "\n",
    "The `arena` parameter sets the index of current arena. You may put several arenas in one configuration file by calling `writeArenaHeader` multiple times. As a tradition, the first arena is indexed 0, the second is 1, etc.\n",
    "\n",
    "The `blackouts` parameter accepts a list of integer numbers which sets which frames at which the lights turn off/on. By setting it to [30, 50] means to turn off lights at frame 30 then switch on at frame 50. \n",
    "It is also possible to set it to a negative number such as [-10], which turns off/on the lights every 10 frames.\n",
    "\n",
    "Then we add same objects we have in last section to this arena with blackouts."
   ]
  },
  {
   "cell_type": "code",
   "execution_count": 15,
   "metadata": {},
   "outputs": [],
   "source": [
    "\n",
    "# Create a fixed agent and a randomized green sphere\n",
    "objs=[AAIObj(\"Agent\", positions=[(20,0,10)], rotations=[0]), AAIObj(\"GoodGoal\", None,None,None)]\n",
    "cw.writeItems(file3, objs)"
   ]
  },
  {
   "cell_type": "markdown",
   "metadata": {},
   "source": [
    "Now let's load and play this new configuration.\n",
    "\n",
    "Remember pressing **C** to switch to first-person view to see the blackouts.\n",
    "You may reset the arena by pressing **R** to watch the blackouts again and find how green sphere is randomized."
   ]
  },
  {
   "cell_type": "code",
   "execution_count": null,
   "metadata": {},
   "outputs": [],
   "source": [
    "from animalai.envs.arena_config import ArenaConfig\n",
    "from animalai.envs.environment import AnimalAIEnvironment\n",
    "from mlagents_envs.exception import UnityCommunicationException\n",
    "import random\n",
    "\n",
    "try:\n",
    "    environment = AnimalAIEnvironment(\n",
    "            file_name='env/AnimalAI',\n",
    "            base_port=5005 + \n",
    "                random.randint(0, 100), # use a random port so (probably) do not need to wait for previous to close if need to relaunch\n",
    "            arenas_configurations=ArenaConfig(file3),\n",
    "            play=True,\n",
    "        )\n",
    "except UnityCommunicationException:\n",
    "    # you'll end up here if you close the environment window directly\n",
    "    # always try to close it from script\n",
    "    environment.close()"
   ]
  },
  {
   "cell_type": "code",
   "execution_count": null,
   "metadata": {},
   "outputs": [],
   "source": [
    "if environment:\n",
    "    environment.close() # takes a few seconds"
   ]
  },
  {
   "cell_type": "markdown",
   "metadata": {},
   "source": [
    "To better support flexible experiment design, `writeArenaHeader` accepts additional parameters to arenas, not objects.\n",
    "\n",
    "`additional` takes a list of (\"name\", values) and append the parameters to the 4 parameters introduced above.\n",
    "\n",
    "Below is an example of configuring blackouts by `additional`."
   ]
  },
  {
   "cell_type": "code",
   "execution_count": 17,
   "metadata": {},
   "outputs": [
    {
     "name": "stdout",
     "output_type": "stream",
     "text": [
      "#Example showing additional arena parameters.\n",
      "!ArenaConfig\n",
      "arenas:\n",
      "  0: !Arena\n",
      "    pass_mark: 1\n",
      "    t: 0\n",
      "    blackouts: [30, 50]\n",
      "    items:\n",
      "\n"
     ]
    }
   ],
   "source": [
    "from generate_configs import *\n",
    "cw = ConfigWriter()\n",
    "file4 = \"config_additional.yaml\"\n",
    "\n",
    "# separate file header and arena header\n",
    "cw.writeConfigHeader(file4,notes=\"Example showing additional arena parameters.\")\n",
    "\n",
    "# pass blackouts parameters by additional parameter\n",
    "cw.writeArenaHeader(file4, passMark=1, time=0, \n",
    "    blackouts=None, arena=0, additional=[(\"blackouts\", [30,50])])\n",
    "    \n",
    "# you may check that the arena header is same as the one in file3\n",
    "with open(file4) as f:\n",
    "    print(f.read())\n",
    "    \n",
    "\n",
    "# Create a fixed agent and a randomized green sphere\n",
    "objs=[AAIObj(\"Agent\", positions=[(20,0,10)], rotations=[0]), AAIObj(\"GoodGoal\", None,None,None)]\n",
    "cw.writeItems(file4, objs)"
   ]
  },
  {
   "cell_type": "markdown",
   "metadata": {},
   "source": [
    "The class `AAIObj` also accepts additional attributes of objects. However, since object attributes are more complicated, the format is not defined. When `ConfigWriter` meets an object with additional attributes, it calls `writeAdditional` in `AAIObj` and pass the file hanlder. It is adviced to inherit `AAIObj` and define your own `writeAdditional` function.\n",
    "\n",
    "Below is an example showing how to extend `AAIObj` to write additional attributes."
   ]
  },
  {
   "cell_type": "code",
   "execution_count": 18,
   "metadata": {},
   "outputs": [
    {
     "name": "stdout",
     "output_type": "stream",
     "text": [
      "#Example showing additional object attributes.\n",
      "!ArenaConfig\n",
      "arenas:\n",
      "  0: !Arena\n",
      "    pass_mark: 1\n",
      "    t: 0\n",
      "    blackouts: [30, 50]\n",
      "    items:\n",
      "    - !Item\n",
      "      name: Agent\n",
      "      positions: \n",
      "      - !Vector3 {x: 20, y: 0, z: 10}\n",
      "      rotations: [0]\n",
      "    - !Item\n",
      "      name: GoodGoal\n",
      "      sizes: \n",
      "      - !Vector3 {x: 1, y: 1, z: 1}\n",
      "      - !Vector3 {x: 2, y: 2, z: 2}\n",
      "\n"
     ]
    }
   ],
   "source": [
    "from generate_configs import *\n",
    "cw = ConfigWriter()\n",
    "file5 = \"config_attributes.yaml\"\n",
    "\n",
    "# separate file header and arena header\n",
    "cw.writeConfigHeader(file5,notes=\"Example showing additional object attributes.\")\n",
    "\n",
    "# pass blackouts parameters by additional parameter\n",
    "cw.writeArenaHeader(file5, passMark=1, time=0, \n",
    "    blackouts=None, arena=0, additional=[(\"blackouts\", [30,50])])\n",
    "\n",
    "# create a class that extends AAIObj\n",
    "class AAIObj2(AAIObj):\n",
    "    def __init__(self, name, positions=None, rotations=None, sizes=None, colors=None, additional=None, warning=True) -> None:\n",
    "        super().__init__(name=name, positions=positions, rotations=rotations, sizes=sizes, colors=colors, additional=additional, warning=warning)\n",
    "        \n",
    "    # define your own function to format the additional attributes\n",
    "    def writeAdditional(self, file):\n",
    "        for attribute in self.additional: # additional [(\"name\", [values]), ...]\n",
    "            name = attribute[0] # \"      sizes: \\n\"\n",
    "            values = attribute[1] # [(1,1,1), (2,2,2)]\n",
    "            file.write(name)\n",
    "            for val in values:\n",
    "                file.write(\"      - !Vector3 {{x: {}, y: {}, z: {}}}\\n\".format(val[0], val[1], val[2]))\n",
    "            \n",
    "\n",
    "# Create a fixed agent and two randomized green spheres\n",
    "# configure size of spheres by additional attribute\n",
    "name = \"      sizes: \\n\" # name for additional attribute\n",
    "values = [(1,1,1), (2,2,2)] # values for additional attribute\n",
    "objs=[AAIObj2(\"Agent\", positions=[(20,0,10)], rotations=[0]), \n",
    "    AAIObj2(\"GoodGoal\", None,None,None, additional=[(name, values)])]\n",
    "cw.writeItems(file5, objs)\n",
    "\n",
    "with open(file5) as f:\n",
    "    print(f.read())\n"
   ]
  },
  {
   "cell_type": "markdown",
   "metadata": {},
   "source": [
    "Load and play the configuration use the cell below. It is expected to have an agent and two green spheres with fixed sizes but randomized locations every time the arena is reset by pressing **R**."
   ]
  },
  {
   "cell_type": "code",
   "execution_count": null,
   "metadata": {},
   "outputs": [],
   "source": [
    "from animalai.envs.arena_config import ArenaConfig\n",
    "from animalai.envs.environment import AnimalAIEnvironment\n",
    "from mlagents_envs.exception import UnityCommunicationException\n",
    "import random\n",
    "\n",
    "try:\n",
    "    environment = AnimalAIEnvironment(\n",
    "            file_name='env/AnimalAI',\n",
    "            base_port=5005 + \n",
    "                random.randint(0, 100), # use a random port so (probably) do not need to wait for previous to close if need to relaunch\n",
    "            arenas_configurations=ArenaConfig(file5),\n",
    "            play=True,\n",
    "        )\n",
    "except UnityCommunicationException:\n",
    "    # you'll end up here if you close the environment window directly\n",
    "    # always try to close it from script\n",
    "    environment.close()"
   ]
  },
  {
   "cell_type": "code",
   "execution_count": null,
   "metadata": {},
   "outputs": [],
   "source": [
    "if environment:\n",
    "    environment.close() # takes a few seconds"
   ]
  },
  {
   "cell_type": "markdown",
   "metadata": {},
   "source": [
    "Congratulations! You have successfully complete this tutorial. We have seen what a configuration file is, how to write it with provided scripts, and how to design your own configuration file to support your experiments.\n",
    "\n",
    "Now you are ready to setup your own arenas via custom configuration files to be used in the Animal-AI environment. You might find the other tutorials helpful. `environment_tutorial` intoduces the Animal-AI environment and the basic functionality of it. `training_tutorial` makes you familiar with the procedure of training an agent using animalai-train. Go and find your treasures!"
   ]
  }
 ],
 "metadata": {
  "kernelspec": {
   "display_name": "Python 3",
   "language": "python",
   "name": "python3"
  },
  "language_info": {
   "codemirror_mode": {
    "name": "ipython",
    "version": 3
   },
   "file_extension": ".py",
   "mimetype": "text/x-python",
   "name": "python",
   "nbconvert_exporter": "python",
   "pygments_lexer": "ipython3",
   "version": "3.8.8"
  }
 },
 "nbformat": 4,
 "nbformat_minor": 4
}
